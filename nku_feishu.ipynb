{
 "cells": [
  {
   "cell_type": "code",
   "execution_count": 80,
   "metadata": {},
   "outputs": [
    {
     "name": "stdout",
     "output_type": "stream",
     "text": [
      "请在每日0:00~13:00间填报\n"
     ]
    }
   ],
   "source": [
    "#-*- coding:utf8 -*-\n",
    "\n",
    "# 导入selenium2中的webdriver库\n",
    "from selenium import webdriver\n",
    "from selenium.webdriver.common.keys import Keys\n",
    "from selenium.webdriver.common.action_chains import ActionChains\n",
    "from selenium.webdriver.support.ui import Select\n",
    "import datetime\n",
    "import time\n",
    "\n",
    "# 实例化出一个Firefox浏览器 \n",
    "driver = webdriver.Chrome()\n",
    "\n",
    "# 设置浏览器窗口的位置和大小\n",
    "driver.set_window_position(20,40)\n",
    "driver.set_window_size(1100,700)\n",
    "\n",
    "# enter through feishu\n",
    "driver.get(\"https://www.feishu.cn/suite/passport/oauth/?app_id=4e11974c58ae389b&desc=%7B%22default%22%3A%22%E5%8D%97%E5%BC%80%E5%BE%AE%E5%BA%94%E7%94%A8%22%2C%22en-US%22%3A%22%E5%8D%97%E5%BC%80%E5%BE%AE%E5%BA%94%E7%94%A8%22%2C%22ja-JP%22%3A%22%E5%8D%97%E5%BC%80%E5%BE%AE%E5%BA%94%E7%94%A8%22%2C%22zh-CN%22%3A%22%E5%8D%97%E5%BC%80%E5%BE%AE%E5%BA%94%E7%94%A8%22%7D&redirect_uri=https%3A%2F%2Fopen.feishu.cn%2Fopen-apis%2Fauthen%2Fv1%2Fauthen_pc%3Fapp_id%3Dcli_9ef30c5ece29100d%26redirect_uri%3Dhttps%253A%252F%252Ffeishu.nankai.edu.cn%252FFeishu%252FIndex%252Fcheckin%253Furl%253D%25252Fhome%25252Findex%25252Fredirectapplication%25253Fappid%25253D229%26response_type%3Dcode%26state%3D&response_type=token&sign=cf1aa75f331d9263a04dd048374f708102b2ddd5ce9612b1a3795a81ad14920e&state=7469821f-9733-42a8-881e-10573210f9a9\")\n",
    "# switch to account login\n",
    "a = driver.find_element_by_xpath('//div[@class=\"switch-login-mode-btn-icon account-icon\"]')\n",
    "driver.execute_script('arguments[0].click()',a)\n",
    "#enter via sso\n",
    "a1 = driver.find_element_by_xpath('//div[@class=\"pp-base-button base-button base-button-plainborder base-button-round sso-login-sso-button\"]')\n",
    "driver.execute_script('arguments[0].click()',a1)\n",
    "\n",
    "#pass throught nankai account test\n",
    "driver.find_element_by_css_selector('[data-test=\"login-set-idp-input\"]').send_keys('nankai')\n",
    "driver.find_element_by_css_selector('[data-test=\"login-set-idp-input\"]').send_keys(Keys.ENTER)\n",
    "# 通过使用选择器选择到表单元素进行模拟输入和点击按钮提交\n",
    "time.sleep(2)\n",
    "driver.find_element_by_css_selector('[name=\"urpid\"]').clear()\n",
    "driver.find_element_by_css_selector('[id=\"inputUrpid\"]').send_keys('studentId')\n",
    "driver.find_element_by_css_selector('[id=\"inputPassword\"]').clear()\n",
    "driver.find_element_by_css_selector('[id=\"inputPassword\"]').send_keys('password')#password\n",
    "driver.find_element_by_css_selector('[id=\"inputPassword\"]').send_keys(Keys.ENTER)#password\n",
    "\n",
    "\n",
    "now = datetime.datetime.now()\n",
    "if(now.hour>=13):\n",
    "    time.sleep(5)\n",
    "    dig_alert = driver.switch_to.alert\n",
    "    # 打印警告对话框内容\n",
    "    print(dig_alert.text)\n",
    "    # alert对话框属于警告对话框，我们这里只能接受弹窗\n",
    "    dig_alert.accept()\n",
    "\n",
    "#选择体温\n",
    "ele = driver.find_element_by_css_selector('[id=\"q1\"]')\n",
    "s = Select(ele)\n",
    "s.select_by_value(\"36.3\")\n",
    "\n",
    "#确认提交\n",
    "driver.find_element_by_css_selector('[class=\"btn btn-lg btn-success saveBtn\"]').click()\n",
    "# 退出窗口\n",
    "driver.quit()"
   ]
  },
  {
   "cell_type": "code",
   "execution_count": null,
   "metadata": {},
   "outputs": [],
   "source": []
  },
  {
   "cell_type": "code",
   "execution_count": null,
   "metadata": {},
   "outputs": [],
   "source": []
  }
 ],
 "metadata": {
  "kernelspec": {
   "display_name": "Python 3",
   "language": "python",
   "name": "python3"
  },
  "language_info": {
   "codemirror_mode": {
    "name": "ipython",
    "version": 3
   },
   "file_extension": ".py",
   "mimetype": "text/x-python",
   "name": "python",
   "nbconvert_exporter": "python",
   "pygments_lexer": "ipython3",
   "version": "3.7.4"
  }
 },
 "nbformat": 4,
 "nbformat_minor": 2
}
